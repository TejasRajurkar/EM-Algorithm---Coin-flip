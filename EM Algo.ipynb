{
 "cells": [
  {
   "cell_type": "code",
   "execution_count": 39,
   "id": "79c27fc9",
   "metadata": {},
   "outputs": [
    {
     "name": "stderr",
     "output_type": "stream",
     "text": [
      "Calculating...: 100%|██████████████████████████████████████████████████████████████████| 30/30 [02:19<00:00,  4.63s/it]"
     ]
    },
    {
     "name": "stdout",
     "output_type": "stream",
     "text": [
      "0.73 0.34\n"
     ]
    },
    {
     "name": "stderr",
     "output_type": "stream",
     "text": [
      "\n"
     ]
    }
   ],
   "source": [
    "import requests\n",
    "from tqdm import tqdm\n",
    "\n",
    "COIN_FLIP_NUMBER = 30\n",
    "MAX_ITERATION = 30\n",
    "coin_flip_draws = {}\n",
    "#intial assumptions\n",
    "theta_A = 0.6\n",
    "theta_B = 0.5\n",
    "for j in tqdm(range(MAX_ITERATION), desc = 'Calculating...'):\n",
    "    for i in range(COIN_FLIP_NUMBER):\n",
    "        #------------------E STEP----------------------------------------------------------\n",
    "        api_url = \"https://24zl01u3ff.execute-api.us-west-1.amazonaws.com/beta\"\n",
    "        response = requests.get(api_url)\n",
    "        heads_count=0\n",
    "        tails_count=0\n",
    "        L_A, L_B, P_A, P_B, LH_A, LT_A, LH_B, LT_B = 0,0,0,0,0,0,0,0\n",
    "        for toss in response.json()['body']:\n",
    "            if toss == '0':\n",
    "                tails_count +=1\n",
    "            elif toss == '1':\n",
    "                heads_count +=1\n",
    "        L_A = (theta_A ** heads_count) * ((1-theta_A) ** (20 - heads_count)) \n",
    "        L_B = (theta_B ** heads_count) * ((1-theta_B) ** (20 - heads_count))\n",
    "        P_A = L_A / (L_A + L_B)\n",
    "        P_B = L_B / (L_A + L_B)\n",
    "\n",
    "        LH_A = P_A * heads_count\n",
    "        LT_A = P_A * tails_count\n",
    "\n",
    "        LH_B = P_B * heads_count\n",
    "        LT_B = P_B * tails_count\n",
    "        coin_flip_draws[i] = [heads_count, tails_count, P_A, P_B, LH_A, LT_A, LH_B, LT_B]        \n",
    "    sum_LH_A, sum_LT_A, sum_LH_B, sum_LT_B = 0,0,0,0\n",
    "    for i in range(COIN_FLIP_NUMBER):\n",
    "        sum_LH_A = sum_LH_A + coin_flip_draws[i][4]\n",
    "        sum_LT_A = sum_LT_A + coin_flip_draws[i][5]\n",
    "        sum_LH_B = sum_LH_B + coin_flip_draws[i][6]\n",
    "        sum_LT_B = sum_LT_B + coin_flip_draws[i][7]\n",
    "    #------------------M STEP-------------------------------------------------------------    \n",
    "    theta_A = sum_LH_A/(sum_LH_A + sum_LT_A)\n",
    "    theta_B = sum_LH_B/(sum_LH_B + sum_LT_B)\n",
    "    theta_A = round(theta_A, 2)\n",
    "    theta_B = round(theta_B, 2)\n",
    "print(theta_A, theta_B)   "
   ]
  },
  {
   "cell_type": "code",
   "execution_count": null,
   "id": "29faa022",
   "metadata": {},
   "outputs": [],
   "source": []
  }
 ],
 "metadata": {
  "kernelspec": {
   "display_name": "Python 3 (ipykernel)",
   "language": "python",
   "name": "python3"
  },
  "language_info": {
   "codemirror_mode": {
    "name": "ipython",
    "version": 3
   },
   "file_extension": ".py",
   "mimetype": "text/x-python",
   "name": "python",
   "nbconvert_exporter": "python",
   "pygments_lexer": "ipython3",
   "version": "3.9.7"
  }
 },
 "nbformat": 4,
 "nbformat_minor": 5
}
